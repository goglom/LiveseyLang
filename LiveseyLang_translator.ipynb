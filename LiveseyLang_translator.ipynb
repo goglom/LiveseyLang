{
  "nbformat": 4,
  "nbformat_minor": 0,
  "metadata": {
    "colab": {
      "name": "LiveseyLang_translator.ipynb",
      "provenance": [],
      "collapsed_sections": [],
      "authorship_tag": "ABX9TyNmKHA9WMQnxEFWPt3zQoot",
      "include_colab_link": true
    },
    "kernelspec": {
      "name": "python3",
      "display_name": "Python 3"
    },
    "language_info": {
      "name": "python"
    }
  },
  "cells": [
    {
      "cell_type": "markdown",
      "metadata": {
        "id": "view-in-github",
        "colab_type": "text"
      },
      "source": [
        "<a href=\"https://colab.research.google.com/github/goglom/LiveseyLang/blob/main/LiveseyLang_translator.ipynb\" target=\"_parent\"><img src=\"https://colab.research.google.com/assets/colab-badge.svg\" alt=\"Open In Colab\"/></a>"
      ]
    },
    {
      "cell_type": "code",
      "execution_count": 71,
      "metadata": {
        "id": "vohTHRaUVOUW"
      },
      "outputs": [],
      "source": [
        "TRANSLATION_TABLE = {\n",
        "    \"О\" : \"ААА\",\n",
        "    \"Е\" : \"ХХХ\",\n",
        "    \"А\" : \"АХАА\",\n",
        "    \"И\" : \"АХХА\",\n",
        "    \"Т\" : \"АХХХ\",\n",
        "    \"Н\" : \"ХААХ\",\n",
        "    \"С\" : \"ХАХА\",\n",
        "    \"Р\" : \"ХХАХ\",\n",
        "    \"В\" : \"ААХАХ\",\n",
        "    \"Л\" : \"ААХХХ\",\n",
        "    \"К\" : \"АХАХА\",\n",
        "    \"М\" : \"ХАААХ\",\n",
        "    \"Д\" : \"ХАХХХ\",\n",
        "    \"П\" : \"ХХААА\",\n",
        "    \"У\" : \"ААХААА\",\n",
        "    \"Я\" : \"ААХААХ\",\n",
        "    \"Ы\" : \"ААХХАХ\",\n",
        "    \"З\" : \"АХАХХА\",\n",
        "    \"Ь\" : \"АХАХХХ\",\n",
        "    \"Ъ\" : \"ХААААХ\",\n",
        "    \"Б\" : \"ХАХХАА\",\n",
        "    \"Г\" : \"ХАХХАХ\",\n",
        "    \"Ч\" : \"ХХААХХ\",\n",
        "    \"Й\" : \"ААХХААХ\",\n",
        "    \"Х\" : \"ХАААААА\",\n",
        "    \"Ж\" : \"ХАААААХ\",\n",
        "    \"Ю\" : \"ХХААХАХ\",\n",
        "    \"Ш\" : \"ААХХАААА\",\n",
        "    \"Ц\" : \"ХХААХААА\",\n",
        "    \"Щ\" : \"ХХААХААХ\",\n",
        "    \"Э\" : \"ААХХАААХА\",\n",
        "    \"Ф\" : \"ААХХАААХХ\",\n",
        "}\n",
        "\n",
        "_appendix = {}\n",
        "for key, value in TRANSLATION_TABLE.items():\n",
        "    _appendix[key.lower()] = value.lower()\n",
        "\n",
        "TRANSLATION_TABLE = {**TRANSLATION_TABLE, **_appendix}"
      ]
    },
    {
      "cell_type": "code",
      "source": [
        "def w_russian_to_livesey(word: str) -> str:\n",
        "    result = \"\"\n",
        "\n",
        "    for char in word:\n",
        "        try:\n",
        "            result += TRANSLATION_TABLE[char]\n",
        "        except KeyError:\n",
        "            result += char\n",
        "    \n",
        "    return result\n",
        "\n",
        "def russian_to_livesey(*words):\n",
        "    result = []\n",
        "    for word in words:\n",
        "        result.append(w_russian_to_livesey(word))\n",
        "    return result"
      ],
      "metadata": {
        "id": "ATyRB9wXche8"
      },
      "execution_count": 72,
      "outputs": []
    },
    {
      "cell_type": "code",
      "source": [
        "def make_trie(code_map: dict):\n",
        "    root = dict()\n",
        "    for word, value in code_map.items():\n",
        "        current_dict = root\n",
        "        for letter in word:\n",
        "            current_dict = current_dict.setdefault(letter, {})\n",
        "        current_dict[None] = value\n",
        "    return root\n",
        "\n",
        "reverted_table = {v: k for k, v in TRANSLATION_TABLE.items()}\n",
        "trie = make_trie(reverted_table)\n",
        "\n",
        "def w_livesey_to_russian(word: str) -> str:\n",
        "    current_node = trie\n",
        "    it = iter(word)\n",
        "    translation = \"\"\n",
        "    while True:\n",
        "        if None in current_node:\n",
        "            translation += current_node[None]\n",
        "            current_node = trie\n",
        "            continue\n",
        "        try:    \n",
        "            char = next(it)\n",
        "            current_node = current_node[char]\n",
        "        except StopIteration:\n",
        "            break\n",
        "\n",
        "    return translation\n",
        "\n",
        "def livesey_to_russian(*words):\n",
        "    result = []\n",
        "    for word in words:\n",
        "        result.append(w_livesey_to_russian(word))\n",
        "    return result"
      ],
      "metadata": {
        "id": "yh55xNQ_e7ej"
      },
      "execution_count": 73,
      "outputs": []
    },
    {
      "cell_type": "code",
      "source": [
        "res = russian_to_livesey(\"Привет\", \"мир\")\n",
        "print(res)\n",
        "\n",
        "livesey_to_russian(*res)"
      ],
      "metadata": {
        "colab": {
          "base_uri": "https://localhost:8080/"
        },
        "id": "yrsP6MYKc0Ry",
        "outputId": "88467b9e-4e39-4cec-986c-62265ee183dc"
      },
      "execution_count": 75,
      "outputs": [
        {
          "output_type": "stream",
          "name": "stdout",
          "text": [
            "['ХХАААххахаххааахаххххаххх', 'хааахаххаххах']\n"
          ]
        },
        {
          "output_type": "execute_result",
          "data": {
            "text/plain": [
              "['Привет', 'мир']"
            ]
          },
          "metadata": {},
          "execution_count": 75
        }
      ]
    }
  ]
}