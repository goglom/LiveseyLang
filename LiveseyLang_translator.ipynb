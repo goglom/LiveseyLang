{
  "cells": [
    {
      "cell_type": "code",
      "execution_count": 1,
      "metadata": {},
      "outputs": [],
      "source": [
        "from liveseylang import livesey_to_russian, russian_to_livesey"
      ]
    },
    {
      "cell_type": "code",
      "execution_count": 2,
      "metadata": {
        "colab": {
          "base_uri": "https://localhost:8080/"
        },
        "id": "yrsP6MYKc0Ry",
        "outputId": "88467b9e-4e39-4cec-986c-62265ee183dc"
      },
      "outputs": [
        {
          "name": "stdout",
          "output_type": "stream",
          "text": [
            "['ХХАААххахаххааахаххххаххх', 'хааахаххаххах']\n"
          ]
        },
        {
          "data": {
            "text/plain": [
              "['Привет', 'мир']"
            ]
          },
          "execution_count": 2,
          "metadata": {},
          "output_type": "execute_result"
        }
      ],
      "source": [
        "res = russian_to_livesey(\"Привет\", \"мир\")\n",
        "print(res)\n",
        "\n",
        "livesey_to_russian(*res)"
      ]
    },
    {
      "cell_type": "code",
      "execution_count": 8,
      "metadata": {},
      "outputs": [
        {
          "data": {
            "text/plain": [
              "'ХАААХххххаахаахаах ахаххаааааахахаахааааххх ААХАХахаахахххаххахааах'"
            ]
          },
          "execution_count": 8,
          "metadata": {},
          "output_type": "execute_result"
        }
      ],
      "source": [
        "' '.join(russian_to_livesey(*'Меня зовут Вадим'.split()))\n"
      ]
    }
  ],
  "metadata": {
    "colab": {
      "authorship_tag": "ABX9TyNmKHA9WMQnxEFWPt3zQoot",
      "collapsed_sections": [],
      "include_colab_link": true,
      "name": "LiveseyLang_translator.ipynb",
      "provenance": []
    },
    "kernelspec": {
      "display_name": "Python 3",
      "name": "python3"
    },
    "language_info": {
      "codemirror_mode": {
        "name": "ipython",
        "version": 3
      },
      "file_extension": ".py",
      "mimetype": "text/x-python",
      "name": "python",
      "nbconvert_exporter": "python",
      "pygments_lexer": "ipython3",
      "version": "3.9.10"
    }
  },
  "nbformat": 4,
  "nbformat_minor": 0
}
